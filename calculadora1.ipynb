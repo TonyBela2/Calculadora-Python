{
 "cells": [
  {
   "cell_type": "markdown",
   "id": "38e5d612",
   "metadata": {},
   "source": [
    "<h1>Calculadora</h1>"
   ]
  },
  {
   "cell_type": "code",
   "execution_count": 817,
   "id": "dbd34a70",
   "metadata": {},
   "outputs": [],
   "source": [
    "from tkinter import *\n",
    "from tkinter import ttk"
   ]
  },
  {
   "cell_type": "code",
   "execution_count": 818,
   "id": "82a8fb51",
   "metadata": {},
   "outputs": [],
   "source": [
    "#Cores\n",
    "cor1 = '#18191a' #Preto\n",
    "cor2 = '#b1baa9' #Cinza claro\n",
    "cor3= '#75e016'#Verde limão\n",
    "cor4 ='#f7faf8' #Branco\n",
    "cor5= '#f7810a' #Laranja\n",
    "cor6= '#4c4f4a' #cinza escuro\n",
    "\n",
    "#bg = cor de fundo\n",
    "#fg = cor do item a frente\n",
    "#relief = estilo do botão\n",
    "#overrelif = O que o botão faz quando você passa o mouse por cima dele"
   ]
  },
  {
   "cell_type": "markdown",
   "id": "4419487b",
   "metadata": {},
   "source": [
    "<h2>Frame 1 (tela)</h2>"
   ]
  },
  {
   "cell_type": "code",
   "execution_count": 819,
   "id": "9f5408cc",
   "metadata": {},
   "outputs": [],
   "source": [
    "janela = Tk()\n",
    "janela.title('Calculadora')\n",
    "janela.geometry('320x430')\n",
    "janela.config(bg=cor1)\n",
    "\n",
    "frame_tela = Frame(janela, width=320, height= 75, bg=cor6)\n",
    "frame_tela.grid(row=0, column= 0)"
   ]
  },
  {
   "cell_type": "markdown",
   "id": "43b7fb04",
   "metadata": {},
   "source": [
    "<h3>Criando Labels</h3>"
   ]
  },
  {
   "cell_type": "code",
   "execution_count": null,
   "id": "c0886019",
   "metadata": {},
   "outputs": [],
   "source": []
  },
  {
   "cell_type": "markdown",
   "id": "4bf48f72",
   "metadata": {},
   "source": [
    "<h2>Frame 2 (corpo)</h2>"
   ]
  },
  {
   "cell_type": "code",
   "execution_count": 820,
   "id": "28e0870d",
   "metadata": {},
   "outputs": [],
   "source": [
    "\n",
    "frame_corpo = Frame(janela, width=320, height= 355)\n",
    "frame_corpo.grid(row=1, column= 0)"
   ]
  },
  {
   "cell_type": "markdown",
   "id": "600562f5",
   "metadata": {},
   "source": [
    "<h3>Criando botões p/ corpo </h3>"
   ]
  },
  {
   "cell_type": "code",
   "execution_count": 821,
   "id": "959e5e80",
   "metadata": {},
   "outputs": [],
   "source": [
    "b_1 = Button(frame_corpo, text='C', width= 15, height = 3, bg= cor2, fg = cor1, font=('Ivy 13 bold'), relief = RAISED, overrelief=RIDGE)\n",
    "b_1.place(x=0, y=0)\n",
    "b_2 = Button(frame_corpo, text='%', width= 7, height = 3, bg= cor2, fg = cor1, font=('Ivy 13 bold'), relief = RAISED, overrelief=RIDGE)\n",
    "b_2.place(x=160, y=0)\n",
    "b_3 = Button(frame_corpo, text='/', width= 7, height = 3, bg= cor3, fg = cor4, font=('Ivy 13 bold'), relief = RAISED, overrelief=RIDGE)\n",
    "b_3.place(x=240, y=0)\n",
    "\n",
    "b_4 = Button(frame_corpo, text='7', width= 7, height = 3, bg= cor2, fg = cor1, font=('Ivy 13 bold'), relief = RAISED, overrelief=RIDGE)\n",
    "b_4.place(x=0, y=71)\n",
    "b_5 = Button(frame_corpo, text='8', width= 7, height = 3, bg= cor2, fg = cor1, font=('Ivy 13 bold'), relief = RAISED, overrelief=RIDGE)\n",
    "b_5.place(x=80, y=71)\n",
    "b_4 = Button(frame_corpo, text='9', width= 7, height = 3, bg= cor2, fg = cor1, font=('Ivy 13 bold'), relief = RAISED, overrelief=RIDGE)\n",
    "b_4.place(x=160, y=71)\n",
    "b_5 = Button(frame_corpo, text='*', width= 7, height = 3, bg= cor3, fg = cor4, font=('Ivy 13 bold'), relief = RAISED, overrelief=RIDGE)\n",
    "b_5.place(x=240, y=71)\n",
    "\n",
    "b_6 = Button(frame_corpo, text='4', width= 7, height = 3, bg= cor2, fg = cor1, font=('Ivy 13 bold'), relief = RAISED, overrelief=RIDGE)\n",
    "b_6.place(x=0, y=142)\n",
    "b_7 = Button(frame_corpo, text='5', width= 7, height = 3, bg= cor2, fg = cor1, font=('Ivy 13 bold'), relief = RAISED, overrelief=RIDGE)\n",
    "b_7.place(x=80, y=142)\n",
    "b_8 = Button(frame_corpo, text='6', width= 7, height = 3, bg= cor2, fg = cor1, font=('Ivy 13 bold'), relief = RAISED, overrelief=RIDGE)\n",
    "b_8.place(x=160, y=142)\n",
    "b_9 = Button(frame_corpo, text='-', width= 7, height = 3, bg= cor3, fg = cor4, font=('Ivy 13 bold'), relief = RAISED, overrelief=RIDGE)\n",
    "b_9.place(x=240, y=142)\n",
    "\n",
    "b_10 = Button(frame_corpo, text='1', width= 7, height = 3, bg= cor2, fg = cor1, font=('Ivy 13 bold'), relief = RAISED, overrelief=RIDGE)\n",
    "b_10.place(x=0, y=213)\n",
    "b_11 = Button(frame_corpo, text='2', width= 7, height = 3, bg= cor2, fg = cor1, font=('Ivy 13 bold'), relief = RAISED, overrelief=RIDGE)\n",
    "b_11.place(x=80, y=213)\n",
    "b_12 = Button(frame_corpo, text='3', width= 7, height = 3, bg= cor2, fg = cor1, font=('Ivy 13 bold'), relief = RAISED, overrelief=RIDGE)\n",
    "b_12.place(x=160, y=213)\n",
    "b_13 = Button(frame_corpo, text='+', width= 7, height = 3, bg= cor3, fg = cor4, font=('Ivy 13 bold'), relief = RAISED, overrelief=RIDGE)\n",
    "b_13.place(x=240, y=213)\n",
    "\n",
    "b_14 = Button(frame_corpo, text='0', width= 15, height = 3, bg= cor2, fg = cor1, font=('Ivy 13 bold'), relief = RAISED, overrelief=RIDGE)\n",
    "b_14.place(x=0, y=284)\n",
    "b_15 = Button(frame_corpo, text='.', width= 7, height = 3, bg= cor2, fg = cor1, font=('Ivy 13 bold'), relief = RAISED, overrelief=RIDGE)\n",
    "b_15.place(x=160, y=284)\n",
    "b_16 = Button(frame_corpo, text='=', width= 7, height = 3, bg= cor3, fg = cor4, font=('Ivy 13 bold'), relief = RAISED, overrelief=RIDGE)\n",
    "b_16.place(x=240, y=284)"
   ]
  },
  {
   "cell_type": "code",
   "execution_count": null,
   "id": "7776b341",
   "metadata": {},
   "outputs": [],
   "source": []
  },
  {
   "cell_type": "code",
   "execution_count": null,
   "id": "900ce7d5",
   "metadata": {},
   "outputs": [],
   "source": [
    "janela.mainloop()"
   ]
  }
 ],
 "metadata": {
  "kernelspec": {
   "display_name": "Python 3 (ipykernel)",
   "language": "python",
   "name": "python3"
  },
  "language_info": {
   "codemirror_mode": {
    "name": "ipython",
    "version": 3
   },
   "file_extension": ".py",
   "mimetype": "text/x-python",
   "name": "python",
   "nbconvert_exporter": "python",
   "pygments_lexer": "ipython3",
   "version": "3.9.7"
  }
 },
 "nbformat": 4,
 "nbformat_minor": 5
}
