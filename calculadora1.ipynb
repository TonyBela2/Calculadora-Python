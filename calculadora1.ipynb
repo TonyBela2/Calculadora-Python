{
 "cells": [
  {
   "cell_type": "markdown",
   "id": "38e5d612",
   "metadata": {},
   "source": [
    "<h1>Calculadora</h1>"
   ]
  },
  {
   "cell_type": "code",
   "execution_count": 1,
   "id": "dbd34a70",
   "metadata": {},
   "outputs": [],
   "source": [
    "from tkinter import *\n",
    "from tkinter import ttk"
   ]
  },
  {
   "cell_type": "code",
   "execution_count": 2,
   "id": "82a8fb51",
   "metadata": {},
   "outputs": [],
   "source": [
    "#Cores\n",
    "cor1 = '#18191a' #Preto\n",
    "cor2 = '#b1baa9' #Cinza claro\n",
    "cor3= '#75e016'#Verde limão\n",
    "cor4 ='#f7faf8' #Branco\n",
    "cor5= '#f7810a' #Laranja\n",
    "cor6= '#4c4f4a' #cinza escuro\n",
    "\n",
    "#bg = cor de fundo\n",
    "#fg = cor do item a frente\n",
    "#relief = estilo do botão\n",
    "#overrelif = O que o botão faz quando você passa o mouse por cima dele\n",
    "#padx = espaço do texto para a borda\n",
    "#anchor = posição (n[norte], s[sul],leste oeste)"
   ]
  },
  {
   "cell_type": "markdown",
   "id": "4419487b",
   "metadata": {},
   "source": [
    "<h2>Frame 1 (tela)</h2>"
   ]
  },
  {
   "cell_type": "code",
   "execution_count": 3,
   "id": "9f5408cc",
   "metadata": {},
   "outputs": [],
   "source": [
    "janela = Tk()\n",
    "janela.title('Calculadora')\n",
    "janela.geometry('320x430')\n",
    "janela.config(bg=cor1)\n",
    "\n",
    "frame_tela = Frame(janela, width=320, height= 75, bg=cor6)\n",
    "frame_tela.grid(row=0, column= 0)"
   ]
  },
  {
   "cell_type": "markdown",
   "id": "43b7fb04",
   "metadata": {},
   "source": [
    "<h3>Criando Labels</h3>"
   ]
  },
  {
   "cell_type": "code",
   "execution_count": 4,
   "id": "c0886019",
   "metadata": {},
   "outputs": [],
   "source": [
    "valor_texto = StringVar()\n",
    "app_label = Label(frame_tela, textvariable = valor_texto, width=20, height=4, padx=14, relief=FLAT, anchor='e', justify=RIGHT, font=('Ivy 19'),bg= cor6, fg=cor4)\n",
    "app_label.place(x=0,y=0)"
   ]
  },
  {
   "cell_type": "markdown",
   "id": "4bf48f72",
   "metadata": {},
   "source": [
    "<h2>Frame 2 (corpo)</h2>"
   ]
  },
  {
   "cell_type": "code",
   "execution_count": 5,
   "id": "28e0870d",
   "metadata": {},
   "outputs": [],
   "source": [
    "\n",
    "frame_corpo = Frame(janela, width=320, height= 355)\n",
    "frame_corpo.grid(row=1, column= 0)"
   ]
  },
  {
   "cell_type": "markdown",
   "id": "96e25538",
   "metadata": {},
   "source": [
    "<h3>Criando Função</h3>\n"
   ]
  },
  {
   "cell_type": "code",
   "execution_count": 6,
   "id": "b812b23b",
   "metadata": {},
   "outputs": [],
   "source": [
    "todos_valores =''\n",
    "\n",
    "def valores_entrada(event):\n",
    "    \n",
    "    global todos_valores\n",
    "    todos_valores = todos_valores + str(event)\n",
    "    \n",
    "    \n",
    "    \n",
    "    #passar o valor pra tela\n",
    "    valor_texto.set(todos_valores)"
   ]
  },
  {
   "cell_type": "markdown",
   "id": "b51cbe37",
   "metadata": {},
   "source": [
    "<h3>Função para calcular</h3>"
   ]
  },
  {
   "cell_type": "code",
   "execution_count": 7,
   "id": "a40e5e45",
   "metadata": {},
   "outputs": [],
   "source": [
    "def calcular():\n",
    "    global todos_valores\n",
    "    resultado = eval(todos_valores)\n",
    "    \n",
    "    valor_texto.set(str(resultado))"
   ]
  },
  {
   "cell_type": "markdown",
   "id": "386a959c",
   "metadata": {},
   "source": [
    "<h3>Função para limpar tela</h3>"
   ]
  },
  {
   "cell_type": "code",
   "execution_count": 8,
   "id": "5bcb8c9d",
   "metadata": {},
   "outputs": [],
   "source": [
    "def limpar_tela():\n",
    "    global todos_valores\n",
    "    todos_valores = ''\n",
    "    \n",
    "    valor_texto.set('')"
   ]
  },
  {
   "cell_type": "markdown",
   "id": "600562f5",
   "metadata": {},
   "source": [
    "<h3>Criando botões p/ corpo </h3>"
   ]
  },
  {
   "cell_type": "code",
   "execution_count": 9,
   "id": "959e5e80",
   "metadata": {},
   "outputs": [],
   "source": [
    "b_1 = Button(frame_corpo, command = limpar_tela, text='C', width= 15, height = 3, bg= cor2, fg = cor1, font=('Ivy 13 bold'), relief = RAISED, overrelief=RIDGE)\n",
    "b_1.place(x=0, y=0)\n",
    "b_2 = Button(frame_corpo, command = lambda: valores_entrada('%'), text='%', width= 7, height = 3, bg= cor2, fg = cor1, font=('Ivy 13 bold'), relief = RAISED, overrelief=RIDGE)\n",
    "b_2.place(x=160, y=0)\n",
    "b_3 = Button(frame_corpo, command = lambda: valores_entrada('/'), text='/', width= 7, height = 3, bg= cor3, fg = cor4, font=('Ivy 13 bold'), relief = RAISED, overrelief=RIDGE)\n",
    "b_3.place(x=240, y=0)\n",
    "\n",
    "b_4 = Button(frame_corpo, command = lambda: valores_entrada('7'), text='7', width= 7, height = 3, bg= cor2, fg = cor1, font=('Ivy 13 bold'), relief = RAISED, overrelief=RIDGE)\n",
    "b_4.place(x=0, y=71)\n",
    "b_5 = Button(frame_corpo, command = lambda: valores_entrada('8'), text='8', width= 7, height = 3, bg= cor2, fg = cor1, font=('Ivy 13 bold'), relief = RAISED, overrelief=RIDGE)\n",
    "b_5.place(x=80, y=71)\n",
    "b_4 = Button(frame_corpo, command = lambda: valores_entrada('9'), text='9', width= 7, height = 3, bg= cor2, fg = cor1, font=('Ivy 13 bold'), relief = RAISED, overrelief=RIDGE)\n",
    "b_4.place(x=160, y=71)\n",
    "b_5 = Button(frame_corpo, command = lambda: valores_entrada('*'), text='*', width= 7, height = 3, bg= cor3, fg = cor4, font=('Ivy 13 bold'), relief = RAISED, overrelief=RIDGE)\n",
    "b_5.place(x=240, y=71)\n",
    "\n",
    "b_6 = Button(frame_corpo, command = lambda: valores_entrada('4'), text='4', width= 7, height = 3, bg= cor2, fg = cor1, font=('Ivy 13 bold'), relief = RAISED, overrelief=RIDGE)\n",
    "b_6.place(x=0, y=142)\n",
    "b_7 = Button(frame_corpo, command = lambda: valores_entrada('5'), text='5', width= 7, height = 3, bg= cor2, fg = cor1, font=('Ivy 13 bold'), relief = RAISED, overrelief=RIDGE)\n",
    "b_7.place(x=80, y=142)\n",
    "b_8 = Button(frame_corpo, command = lambda: valores_entrada('6'), text='6', width= 7, height = 3, bg= cor2, fg = cor1, font=('Ivy 13 bold'), relief = RAISED, overrelief=RIDGE)\n",
    "b_8.place(x=160, y=142)\n",
    "b_9 = Button(frame_corpo, command = lambda: valores_entrada('-'), text='-', width= 7, height = 3, bg= cor3, fg = cor4, font=('Ivy 13 bold'), relief = RAISED, overrelief=RIDGE)\n",
    "b_9.place(x=240, y=142)\n",
    "\n",
    "b_10 = Button(frame_corpo, command = lambda: valores_entrada('1'), text='1', width= 7, height = 3, bg= cor2, fg = cor1, font=('Ivy 13 bold'), relief = RAISED, overrelief=RIDGE)\n",
    "b_10.place(x=0, y=213)\n",
    "b_11 = Button(frame_corpo, command = lambda: valores_entrada('2'), text='2', width= 7, height = 3, bg= cor2, fg = cor1, font=('Ivy 13 bold'), relief = RAISED, overrelief=RIDGE)\n",
    "b_11.place(x=80, y=213)\n",
    "b_12 = Button(frame_corpo, command = lambda: valores_entrada('3'), text='3', width= 7, height = 3, bg= cor2, fg = cor1, font=('Ivy 13 bold'), relief = RAISED, overrelief=RIDGE)\n",
    "b_12.place(x=160, y=213)\n",
    "b_13 = Button(frame_corpo, command = lambda: valores_entrada('+'), text='+', width= 7, height = 3, bg= cor3, fg = cor4, font=('Ivy 13 bold'), relief = RAISED, overrelief=RIDGE)\n",
    "b_13.place(x=240, y=213)\n",
    "\n",
    "b_14 = Button(frame_corpo, command = lambda: valores_entrada('0'), text='0', width= 15, height = 3, bg= cor2, fg = cor1, font=('Ivy 13 bold'), relief = RAISED, overrelief=RIDGE)\n",
    "b_14.place(x=0, y=284)\n",
    "b_15 = Button(frame_corpo, command = lambda: valores_entrada('.'), text='.', width= 7, height = 3, bg= cor2, fg = cor1, font=('Ivy 13 bold'), relief = RAISED, overrelief=RIDGE)\n",
    "b_15.place(x=160, y=284)\n",
    "b_16 = Button(frame_corpo, command = calcular, text='=', width= 7, height = 3, bg= cor3, fg = cor4, font=('Ivy 13 bold'), relief = RAISED, overrelief=RIDGE)\n",
    "b_16.place(x=240, y=284)"
   ]
  },
  {
   "cell_type": "code",
   "execution_count": 10,
   "id": "900ce7d5",
   "metadata": {},
   "outputs": [],
   "source": [
    "\n",
    "janela.mainloop()"
   ]
  }
 ],
 "metadata": {
  "kernelspec": {
   "display_name": "Python 3 (ipykernel)",
   "language": "python",
   "name": "python3"
  },
  "language_info": {
   "codemirror_mode": {
    "name": "ipython",
    "version": 3
   },
   "file_extension": ".py",
   "mimetype": "text/x-python",
   "name": "python",
   "nbconvert_exporter": "python",
   "pygments_lexer": "ipython3",
   "version": "3.9.7"
  }
 },
 "nbformat": 4,
 "nbformat_minor": 5
}
