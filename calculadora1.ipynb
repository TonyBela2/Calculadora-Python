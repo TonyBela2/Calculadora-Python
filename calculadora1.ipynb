{
 "cells": [
  {
   "cell_type": "markdown",
   "id": "05c3c513",
   "metadata": {},
   "source": [
    "<h1>Calculadora</h1>"
   ]
  },
  {
   "cell_type": "code",
   "execution_count": null,
   "id": "2d023faf",
   "metadata": {},
   "outputs": [],
   "source": [
    "from tkinter import *\n",
    "from tkinter import ttk"
   ]
  },
  {
   "cell_type": "markdown",
   "id": "c40f6408",
   "metadata": {},
   "source": [
    "#Cores\n",
    "preta = #18191a\n",
    "Cinza = #b1baa9\n",
    "Verde limão = #75e016"
   ]
  },
  {
   "cell_type": "code",
   "execution_count": null,
   "id": "ec7a014f",
   "metadata": {},
   "outputs": [],
   "source": [
    "janela = Tk()\n",
    "janela.title('Calculadora')\n",
    "janela.geometry('300x500')\n",
    "\n",
    "frame_tela = Frame(janela, width=300, height= 100)\n",
    "frame_tela.grid(row= 0, column= 0)"
   ]
  },
  {
   "cell_type": "code",
   "execution_count": null,
   "id": "a459b653",
   "metadata": {},
   "outputs": [],
   "source": [
    "janela.mainloop()"
   ]
  },
  {
   "cell_type": "code",
   "execution_count": null,
   "id": "477e2498",
   "metadata": {},
   "outputs": [],
   "source": []
  }
 ],
 "metadata": {
  "kernelspec": {
   "display_name": "Python 3 (ipykernel)",
   "language": "python",
   "name": "python3"
  },
  "language_info": {
   "codemirror_mode": {
    "name": "ipython",
    "version": 3
   },
   "file_extension": ".py",
   "mimetype": "text/x-python",
   "name": "python",
   "nbconvert_exporter": "python",
   "pygments_lexer": "ipython3",
   "version": "3.9.7"
  }
 },
 "nbformat": 4,
 "nbformat_minor": 5
}
